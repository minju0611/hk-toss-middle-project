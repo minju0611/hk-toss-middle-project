{
 "cells": [
  {
   "cell_type": "markdown",
   "id": "0e230038",
   "metadata": {},
   "source": [
    "# 필요한 데이터 setting"
   ]
  },
  {
   "cell_type": "code",
   "execution_count": 13,
   "id": "54eaafa9",
   "metadata": {},
   "outputs": [],
   "source": [
    "import pandas as pd\n",
    "import matplotlib.pyplot as plt\n",
    "import seaborn as sns\n",
    "import numpy as np\n",
    "plt.rc('font', family='Malgun Gothic')"
   ]
  },
  {
   "cell_type": "code",
   "execution_count": 2,
   "id": "f766afba",
   "metadata": {
    "scrolled": true
   },
   "outputs": [],
   "source": [
    "import sys\n",
    "import os\n",
    "\n",
    "project_root = \"C:/Users/oes05/hk-toss-middle-project\" # package 가 있는 위치\n",
    "\n",
    "# sys.path에 최상위 폴더 경로 추가.\n",
    "sys.path.append(project_root)\n",
    "\n",
    "from package.preprocessing.test_pipeline import preprocessing_customer_data"
   ]
  },
  {
   "cell_type": "code",
   "execution_count": 3,
   "id": "7cf86511",
   "metadata": {},
   "outputs": [
    {
     "data": {
      "text/html": [
       "<div>\n",
       "<style scoped>\n",
       "    .dataframe tbody tr th:only-of-type {\n",
       "        vertical-align: middle;\n",
       "    }\n",
       "\n",
       "    .dataframe tbody tr th {\n",
       "        vertical-align: top;\n",
       "    }\n",
       "\n",
       "    .dataframe thead th {\n",
       "        text-align: right;\n",
       "    }\n",
       "</style>\n",
       "<table border=\"1\" class=\"dataframe\">\n",
       "  <thead>\n",
       "    <tr style=\"text-align: right;\">\n",
       "      <th></th>\n",
       "      <th>BASE_YM</th>\n",
       "      <th>CUST_ID</th>\n",
       "      <th>SEX</th>\n",
       "      <th>AGE</th>\n",
       "      <th>JB_TP</th>\n",
       "      <th>HOME_ADM</th>\n",
       "      <th>COM_ADM</th>\n",
       "      <th>HIGHEND_CD1</th>\n",
       "      <th>HIGHEND_CD2</th>\n",
       "      <th>HIGHEND_CD3</th>\n",
       "      <th>...</th>\n",
       "      <th>YOY_R3M_ITRT_ENT_MUSIC_CS</th>\n",
       "      <th>YOY_R3M_ITRT_INFO_NEWS_CS</th>\n",
       "      <th>YOY_R3M_ITRT_INFO_BOOK_CS</th>\n",
       "      <th>YOY_R3M_ITRT_INFO_BLOG_CS</th>\n",
       "      <th>YOY_R3M_ITRT_INFO_PORTAL_CS</th>\n",
       "      <th>YOY_R3M_ITRT_COMM_SNS_CS</th>\n",
       "      <th>YOY_R3M_ITRT_COMM_VOIP_CS</th>\n",
       "      <th>YOY_R3M_ITRT_COMM_DATE_CS</th>\n",
       "      <th>YOY_R3M_ITRT_COMM_MESSENGER_CS</th>\n",
       "      <th>exited</th>\n",
       "    </tr>\n",
       "  </thead>\n",
       "  <tbody>\n",
       "    <tr>\n",
       "      <th>0</th>\n",
       "      <td>202212</td>\n",
       "      <td>SYN_0</td>\n",
       "      <td>2</td>\n",
       "      <td>35</td>\n",
       "      <td>420</td>\n",
       "      <td>42</td>\n",
       "      <td>42.0</td>\n",
       "      <td>0</td>\n",
       "      <td>0</td>\n",
       "      <td>0</td>\n",
       "      <td>...</td>\n",
       "      <td>0</td>\n",
       "      <td>0</td>\n",
       "      <td>0</td>\n",
       "      <td>0</td>\n",
       "      <td>0</td>\n",
       "      <td>0</td>\n",
       "      <td>0</td>\n",
       "      <td>0</td>\n",
       "      <td>0</td>\n",
       "      <td>0</td>\n",
       "    </tr>\n",
       "    <tr>\n",
       "      <th>1</th>\n",
       "      <td>202212</td>\n",
       "      <td>SYN_1</td>\n",
       "      <td>2</td>\n",
       "      <td>50</td>\n",
       "      <td>910</td>\n",
       "      <td>41</td>\n",
       "      <td>11.0</td>\n",
       "      <td>0</td>\n",
       "      <td>0</td>\n",
       "      <td>0</td>\n",
       "      <td>...</td>\n",
       "      <td>0</td>\n",
       "      <td>1</td>\n",
       "      <td>0</td>\n",
       "      <td>0</td>\n",
       "      <td>0</td>\n",
       "      <td>0</td>\n",
       "      <td>0</td>\n",
       "      <td>0</td>\n",
       "      <td>0</td>\n",
       "      <td>0</td>\n",
       "    </tr>\n",
       "    <tr>\n",
       "      <th>3</th>\n",
       "      <td>202212</td>\n",
       "      <td>SYN_3</td>\n",
       "      <td>1</td>\n",
       "      <td>25</td>\n",
       "      <td>910</td>\n",
       "      <td>11</td>\n",
       "      <td>11.0</td>\n",
       "      <td>0</td>\n",
       "      <td>0</td>\n",
       "      <td>0</td>\n",
       "      <td>...</td>\n",
       "      <td>0</td>\n",
       "      <td>0</td>\n",
       "      <td>0</td>\n",
       "      <td>0</td>\n",
       "      <td>0</td>\n",
       "      <td>0</td>\n",
       "      <td>0</td>\n",
       "      <td>0</td>\n",
       "      <td>0</td>\n",
       "      <td>0</td>\n",
       "    </tr>\n",
       "    <tr>\n",
       "      <th>4</th>\n",
       "      <td>202212</td>\n",
       "      <td>SYN_4</td>\n",
       "      <td>2</td>\n",
       "      <td>40</td>\n",
       "      <td>420</td>\n",
       "      <td>47</td>\n",
       "      <td>47.0</td>\n",
       "      <td>0</td>\n",
       "      <td>0</td>\n",
       "      <td>0</td>\n",
       "      <td>...</td>\n",
       "      <td>0</td>\n",
       "      <td>0</td>\n",
       "      <td>0</td>\n",
       "      <td>0</td>\n",
       "      <td>0</td>\n",
       "      <td>0</td>\n",
       "      <td>0</td>\n",
       "      <td>0</td>\n",
       "      <td>0</td>\n",
       "      <td>0</td>\n",
       "    </tr>\n",
       "    <tr>\n",
       "      <th>5</th>\n",
       "      <td>202212</td>\n",
       "      <td>SYN_5</td>\n",
       "      <td>2</td>\n",
       "      <td>55</td>\n",
       "      <td>510</td>\n",
       "      <td>11</td>\n",
       "      <td>11.0</td>\n",
       "      <td>0</td>\n",
       "      <td>0</td>\n",
       "      <td>0</td>\n",
       "      <td>...</td>\n",
       "      <td>0</td>\n",
       "      <td>0</td>\n",
       "      <td>0</td>\n",
       "      <td>0</td>\n",
       "      <td>0</td>\n",
       "      <td>0</td>\n",
       "      <td>0</td>\n",
       "      <td>0</td>\n",
       "      <td>0</td>\n",
       "      <td>0</td>\n",
       "    </tr>\n",
       "    <tr>\n",
       "      <th>...</th>\n",
       "      <td>...</td>\n",
       "      <td>...</td>\n",
       "      <td>...</td>\n",
       "      <td>...</td>\n",
       "      <td>...</td>\n",
       "      <td>...</td>\n",
       "      <td>...</td>\n",
       "      <td>...</td>\n",
       "      <td>...</td>\n",
       "      <td>...</td>\n",
       "      <td>...</td>\n",
       "      <td>...</td>\n",
       "      <td>...</td>\n",
       "      <td>...</td>\n",
       "      <td>...</td>\n",
       "      <td>...</td>\n",
       "      <td>...</td>\n",
       "      <td>...</td>\n",
       "      <td>...</td>\n",
       "      <td>...</td>\n",
       "      <td>...</td>\n",
       "    </tr>\n",
       "    <tr>\n",
       "      <th>329994</th>\n",
       "      <td>202212</td>\n",
       "      <td>SYN_329994</td>\n",
       "      <td>1</td>\n",
       "      <td>40</td>\n",
       "      <td>510</td>\n",
       "      <td>41</td>\n",
       "      <td>NaN</td>\n",
       "      <td>1</td>\n",
       "      <td>0</td>\n",
       "      <td>0</td>\n",
       "      <td>...</td>\n",
       "      <td>0</td>\n",
       "      <td>0</td>\n",
       "      <td>0</td>\n",
       "      <td>0</td>\n",
       "      <td>0</td>\n",
       "      <td>0</td>\n",
       "      <td>0</td>\n",
       "      <td>0</td>\n",
       "      <td>0</td>\n",
       "      <td>0</td>\n",
       "    </tr>\n",
       "    <tr>\n",
       "      <th>329995</th>\n",
       "      <td>202212</td>\n",
       "      <td>SYN_329995</td>\n",
       "      <td>1</td>\n",
       "      <td>55</td>\n",
       "      <td>510</td>\n",
       "      <td>11</td>\n",
       "      <td>11.0</td>\n",
       "      <td>1</td>\n",
       "      <td>0</td>\n",
       "      <td>0</td>\n",
       "      <td>...</td>\n",
       "      <td>0</td>\n",
       "      <td>0</td>\n",
       "      <td>0</td>\n",
       "      <td>0</td>\n",
       "      <td>0</td>\n",
       "      <td>0</td>\n",
       "      <td>0</td>\n",
       "      <td>0</td>\n",
       "      <td>0</td>\n",
       "      <td>0</td>\n",
       "    </tr>\n",
       "    <tr>\n",
       "      <th>329996</th>\n",
       "      <td>202212</td>\n",
       "      <td>SYN_329996</td>\n",
       "      <td>2</td>\n",
       "      <td>60</td>\n",
       "      <td>910</td>\n",
       "      <td>41</td>\n",
       "      <td>NaN</td>\n",
       "      <td>0</td>\n",
       "      <td>0</td>\n",
       "      <td>0</td>\n",
       "      <td>...</td>\n",
       "      <td>0</td>\n",
       "      <td>0</td>\n",
       "      <td>0</td>\n",
       "      <td>0</td>\n",
       "      <td>0</td>\n",
       "      <td>0</td>\n",
       "      <td>0</td>\n",
       "      <td>0</td>\n",
       "      <td>0</td>\n",
       "      <td>0</td>\n",
       "    </tr>\n",
       "    <tr>\n",
       "      <th>329998</th>\n",
       "      <td>202212</td>\n",
       "      <td>SYN_329998</td>\n",
       "      <td>2</td>\n",
       "      <td>45</td>\n",
       "      <td>420</td>\n",
       "      <td>29</td>\n",
       "      <td>NaN</td>\n",
       "      <td>0</td>\n",
       "      <td>0</td>\n",
       "      <td>0</td>\n",
       "      <td>...</td>\n",
       "      <td>0</td>\n",
       "      <td>0</td>\n",
       "      <td>0</td>\n",
       "      <td>0</td>\n",
       "      <td>0</td>\n",
       "      <td>0</td>\n",
       "      <td>0</td>\n",
       "      <td>0</td>\n",
       "      <td>0</td>\n",
       "      <td>0</td>\n",
       "    </tr>\n",
       "    <tr>\n",
       "      <th>329999</th>\n",
       "      <td>202212</td>\n",
       "      <td>SYN_329999</td>\n",
       "      <td>1</td>\n",
       "      <td>55</td>\n",
       "      <td>420</td>\n",
       "      <td>41</td>\n",
       "      <td>41.0</td>\n",
       "      <td>0</td>\n",
       "      <td>0</td>\n",
       "      <td>0</td>\n",
       "      <td>...</td>\n",
       "      <td>0</td>\n",
       "      <td>0</td>\n",
       "      <td>0</td>\n",
       "      <td>0</td>\n",
       "      <td>0</td>\n",
       "      <td>0</td>\n",
       "      <td>0</td>\n",
       "      <td>0</td>\n",
       "      <td>0</td>\n",
       "      <td>0</td>\n",
       "    </tr>\n",
       "  </tbody>\n",
       "</table>\n",
       "<p>283945 rows × 739 columns</p>\n",
       "</div>"
      ],
      "text/plain": [
       "        BASE_YM     CUST_ID  SEX  AGE  JB_TP  HOME_ADM  COM_ADM  HIGHEND_CD1  \\\n",
       "0        202212       SYN_0    2   35    420        42     42.0            0   \n",
       "1        202212       SYN_1    2   50    910        41     11.0            0   \n",
       "3        202212       SYN_3    1   25    910        11     11.0            0   \n",
       "4        202212       SYN_4    2   40    420        47     47.0            0   \n",
       "5        202212       SYN_5    2   55    510        11     11.0            0   \n",
       "...         ...         ...  ...  ...    ...       ...      ...          ...   \n",
       "329994   202212  SYN_329994    1   40    510        41      NaN            1   \n",
       "329995   202212  SYN_329995    1   55    510        11     11.0            1   \n",
       "329996   202212  SYN_329996    2   60    910        41      NaN            0   \n",
       "329998   202212  SYN_329998    2   45    420        29      NaN            0   \n",
       "329999   202212  SYN_329999    1   55    420        41     41.0            0   \n",
       "\n",
       "        HIGHEND_CD2  HIGHEND_CD3  ...  YOY_R3M_ITRT_ENT_MUSIC_CS  \\\n",
       "0                 0            0  ...                          0   \n",
       "1                 0            0  ...                          0   \n",
       "3                 0            0  ...                          0   \n",
       "4                 0            0  ...                          0   \n",
       "5                 0            0  ...                          0   \n",
       "...             ...          ...  ...                        ...   \n",
       "329994            0            0  ...                          0   \n",
       "329995            0            0  ...                          0   \n",
       "329996            0            0  ...                          0   \n",
       "329998            0            0  ...                          0   \n",
       "329999            0            0  ...                          0   \n",
       "\n",
       "        YOY_R3M_ITRT_INFO_NEWS_CS  YOY_R3M_ITRT_INFO_BOOK_CS  \\\n",
       "0                               0                          0   \n",
       "1                               1                          0   \n",
       "3                               0                          0   \n",
       "4                               0                          0   \n",
       "5                               0                          0   \n",
       "...                           ...                        ...   \n",
       "329994                          0                          0   \n",
       "329995                          0                          0   \n",
       "329996                          0                          0   \n",
       "329998                          0                          0   \n",
       "329999                          0                          0   \n",
       "\n",
       "       YOY_R3M_ITRT_INFO_BLOG_CS  YOY_R3M_ITRT_INFO_PORTAL_CS  \\\n",
       "0                              0                            0   \n",
       "1                              0                            0   \n",
       "3                              0                            0   \n",
       "4                              0                            0   \n",
       "5                              0                            0   \n",
       "...                          ...                          ...   \n",
       "329994                         0                            0   \n",
       "329995                         0                            0   \n",
       "329996                         0                            0   \n",
       "329998                         0                            0   \n",
       "329999                         0                            0   \n",
       "\n",
       "       YOY_R3M_ITRT_COMM_SNS_CS  YOY_R3M_ITRT_COMM_VOIP_CS  \\\n",
       "0                             0                          0   \n",
       "1                             0                          0   \n",
       "3                             0                          0   \n",
       "4                             0                          0   \n",
       "5                             0                          0   \n",
       "...                         ...                        ...   \n",
       "329994                        0                          0   \n",
       "329995                        0                          0   \n",
       "329996                        0                          0   \n",
       "329998                        0                          0   \n",
       "329999                        0                          0   \n",
       "\n",
       "        YOY_R3M_ITRT_COMM_DATE_CS YOY_R3M_ITRT_COMM_MESSENGER_CS exited  \n",
       "0                               0                              0      0  \n",
       "1                               0                              0      0  \n",
       "3                               0                              0      0  \n",
       "4                               0                              0      0  \n",
       "5                               0                              0      0  \n",
       "...                           ...                            ...    ...  \n",
       "329994                          0                              0      0  \n",
       "329995                          0                              0      0  \n",
       "329996                          0                              0      0  \n",
       "329998                          0                              0      0  \n",
       "329999                          0                              0      0  \n",
       "\n",
       "[283945 rows x 739 columns]"
      ]
     },
     "execution_count": 3,
     "metadata": {},
     "output_type": "execute_result"
    }
   ],
   "source": [
    "df_21 = pd.read_csv(\"C:/Users/oes05/Downloads/hktoss-receive/data/202112_통신카드CB결합.csv\")\n",
    "df_22 = pd.read_csv(\"C:/Users/oes05/Downloads/hktoss-receive/data/202212_통신카드CB결합.csv\")\n",
    "\n",
    "# 파이프라인 실행\n",
    "df = preprocessing_customer_data(df_21, df_22)\n",
    "df"
   ]
  },
  {
   "cell_type": "code",
   "execution_count": 4,
   "id": "7b055e26",
   "metadata": {},
   "outputs": [
    {
     "name": "stdout",
     "output_type": "stream",
     "text": [
      "0    269037\n",
      "1     14908\n",
      "Name: exited, dtype: int64\n"
     ]
    }
   ],
   "source": [
    "print(df[\"exited\"].value_counts()) # 0 : 비이탈 고객, 1 : 이탈 고객"
   ]
  },
  {
   "cell_type": "markdown",
   "id": "ca09a6c3",
   "metadata": {},
   "source": [
    "# EDA 주제 : 이탈 고객의 대출 잔액, 연체 건수 분석"
   ]
  },
  {
   "cell_type": "code",
   "execution_count": 5,
   "id": "4984c726",
   "metadata": {},
   "outputs": [
    {
     "data": {
      "text/html": [
       "<div>\n",
       "<style scoped>\n",
       "    .dataframe tbody tr th:only-of-type {\n",
       "        vertical-align: middle;\n",
       "    }\n",
       "\n",
       "    .dataframe tbody tr th {\n",
       "        vertical-align: top;\n",
       "    }\n",
       "\n",
       "    .dataframe thead th {\n",
       "        text-align: right;\n",
       "    }\n",
       "</style>\n",
       "<table border=\"1\" class=\"dataframe\">\n",
       "  <thead>\n",
       "    <tr style=\"text-align: right;\">\n",
       "      <th></th>\n",
       "      <th>CUST_ID</th>\n",
       "      <th>HOUS_LN_BAL</th>\n",
       "      <th>CRDT_LN_BAL</th>\n",
       "      <th>PYE_D10110001</th>\n",
       "      <th>PYE_D10110003</th>\n",
       "      <th>PYE_D10110006</th>\n",
       "      <th>PYE_D1011000C</th>\n",
       "      <th>PYE_D10210D00</th>\n",
       "      <th>PYE_D10232000</th>\n",
       "      <th>PYE_SC0000000</th>\n",
       "      <th>exited</th>\n",
       "    </tr>\n",
       "  </thead>\n",
       "  <tbody>\n",
       "    <tr>\n",
       "      <th>0</th>\n",
       "      <td>SYN_0</td>\n",
       "      <td>0</td>\n",
       "      <td>0</td>\n",
       "      <td>0.0</td>\n",
       "      <td>0.0</td>\n",
       "      <td>0.0</td>\n",
       "      <td>0.0</td>\n",
       "      <td>0.0</td>\n",
       "      <td>0.0</td>\n",
       "      <td>1000.0</td>\n",
       "      <td>0</td>\n",
       "    </tr>\n",
       "    <tr>\n",
       "      <th>1</th>\n",
       "      <td>SYN_1</td>\n",
       "      <td>0</td>\n",
       "      <td>0</td>\n",
       "      <td>0.0</td>\n",
       "      <td>0.0</td>\n",
       "      <td>0.0</td>\n",
       "      <td>0.0</td>\n",
       "      <td>0.0</td>\n",
       "      <td>0.0</td>\n",
       "      <td>1000.0</td>\n",
       "      <td>0</td>\n",
       "    </tr>\n",
       "    <tr>\n",
       "      <th>3</th>\n",
       "      <td>SYN_3</td>\n",
       "      <td>0</td>\n",
       "      <td>0</td>\n",
       "      <td>0.0</td>\n",
       "      <td>0.0</td>\n",
       "      <td>0.0</td>\n",
       "      <td>0.0</td>\n",
       "      <td>0.0</td>\n",
       "      <td>0.0</td>\n",
       "      <td>915.0</td>\n",
       "      <td>0</td>\n",
       "    </tr>\n",
       "    <tr>\n",
       "      <th>4</th>\n",
       "      <td>SYN_4</td>\n",
       "      <td>0</td>\n",
       "      <td>0</td>\n",
       "      <td>0.0</td>\n",
       "      <td>0.0</td>\n",
       "      <td>0.0</td>\n",
       "      <td>0.0</td>\n",
       "      <td>0.0</td>\n",
       "      <td>0.0</td>\n",
       "      <td>966.0</td>\n",
       "      <td>0</td>\n",
       "    </tr>\n",
       "    <tr>\n",
       "      <th>5</th>\n",
       "      <td>SYN_5</td>\n",
       "      <td>0</td>\n",
       "      <td>0</td>\n",
       "      <td>0.0</td>\n",
       "      <td>0.0</td>\n",
       "      <td>0.0</td>\n",
       "      <td>0.0</td>\n",
       "      <td>0.0</td>\n",
       "      <td>0.0</td>\n",
       "      <td>992.0</td>\n",
       "      <td>0</td>\n",
       "    </tr>\n",
       "    <tr>\n",
       "      <th>...</th>\n",
       "      <td>...</td>\n",
       "      <td>...</td>\n",
       "      <td>...</td>\n",
       "      <td>...</td>\n",
       "      <td>...</td>\n",
       "      <td>...</td>\n",
       "      <td>...</td>\n",
       "      <td>...</td>\n",
       "      <td>...</td>\n",
       "      <td>...</td>\n",
       "      <td>...</td>\n",
       "    </tr>\n",
       "    <tr>\n",
       "      <th>329994</th>\n",
       "      <td>SYN_329994</td>\n",
       "      <td>0</td>\n",
       "      <td>70434</td>\n",
       "      <td>0.0</td>\n",
       "      <td>0.0</td>\n",
       "      <td>0.0</td>\n",
       "      <td>0.0</td>\n",
       "      <td>0.0</td>\n",
       "      <td>0.0</td>\n",
       "      <td>594.0</td>\n",
       "      <td>0</td>\n",
       "    </tr>\n",
       "    <tr>\n",
       "      <th>329995</th>\n",
       "      <td>SYN_329995</td>\n",
       "      <td>0</td>\n",
       "      <td>53020</td>\n",
       "      <td>0.0</td>\n",
       "      <td>0.0</td>\n",
       "      <td>0.0</td>\n",
       "      <td>0.0</td>\n",
       "      <td>0.0</td>\n",
       "      <td>0.0</td>\n",
       "      <td>580.0</td>\n",
       "      <td>0</td>\n",
       "    </tr>\n",
       "    <tr>\n",
       "      <th>329996</th>\n",
       "      <td>SYN_329996</td>\n",
       "      <td>0</td>\n",
       "      <td>0</td>\n",
       "      <td>0.0</td>\n",
       "      <td>0.0</td>\n",
       "      <td>0.0</td>\n",
       "      <td>0.0</td>\n",
       "      <td>0.0</td>\n",
       "      <td>0.0</td>\n",
       "      <td>999.0</td>\n",
       "      <td>0</td>\n",
       "    </tr>\n",
       "    <tr>\n",
       "      <th>329998</th>\n",
       "      <td>SYN_329998</td>\n",
       "      <td>0</td>\n",
       "      <td>0</td>\n",
       "      <td>0.0</td>\n",
       "      <td>0.0</td>\n",
       "      <td>0.0</td>\n",
       "      <td>0.0</td>\n",
       "      <td>0.0</td>\n",
       "      <td>0.0</td>\n",
       "      <td>1000.0</td>\n",
       "      <td>0</td>\n",
       "    </tr>\n",
       "    <tr>\n",
       "      <th>329999</th>\n",
       "      <td>SYN_329999</td>\n",
       "      <td>91916</td>\n",
       "      <td>26939</td>\n",
       "      <td>0.0</td>\n",
       "      <td>0.0</td>\n",
       "      <td>0.0</td>\n",
       "      <td>0.0</td>\n",
       "      <td>0.0</td>\n",
       "      <td>0.0</td>\n",
       "      <td>981.0</td>\n",
       "      <td>0</td>\n",
       "    </tr>\n",
       "  </tbody>\n",
       "</table>\n",
       "<p>283945 rows × 11 columns</p>\n",
       "</div>"
      ],
      "text/plain": [
       "           CUST_ID  HOUS_LN_BAL  CRDT_LN_BAL  PYE_D10110001  PYE_D10110003  \\\n",
       "0            SYN_0            0            0            0.0            0.0   \n",
       "1            SYN_1            0            0            0.0            0.0   \n",
       "3            SYN_3            0            0            0.0            0.0   \n",
       "4            SYN_4            0            0            0.0            0.0   \n",
       "5            SYN_5            0            0            0.0            0.0   \n",
       "...            ...          ...          ...            ...            ...   \n",
       "329994  SYN_329994            0        70434            0.0            0.0   \n",
       "329995  SYN_329995            0        53020            0.0            0.0   \n",
       "329996  SYN_329996            0            0            0.0            0.0   \n",
       "329998  SYN_329998            0            0            0.0            0.0   \n",
       "329999  SYN_329999        91916        26939            0.0            0.0   \n",
       "\n",
       "        PYE_D10110006  PYE_D1011000C  PYE_D10210D00  PYE_D10232000  \\\n",
       "0                 0.0            0.0            0.0            0.0   \n",
       "1                 0.0            0.0            0.0            0.0   \n",
       "3                 0.0            0.0            0.0            0.0   \n",
       "4                 0.0            0.0            0.0            0.0   \n",
       "5                 0.0            0.0            0.0            0.0   \n",
       "...               ...            ...            ...            ...   \n",
       "329994            0.0            0.0            0.0            0.0   \n",
       "329995            0.0            0.0            0.0            0.0   \n",
       "329996            0.0            0.0            0.0            0.0   \n",
       "329998            0.0            0.0            0.0            0.0   \n",
       "329999            0.0            0.0            0.0            0.0   \n",
       "\n",
       "        PYE_SC0000000  exited  \n",
       "0              1000.0       0  \n",
       "1              1000.0       0  \n",
       "3               915.0       0  \n",
       "4               966.0       0  \n",
       "5               992.0       0  \n",
       "...               ...     ...  \n",
       "329994          594.0       0  \n",
       "329995          580.0       0  \n",
       "329996          999.0       0  \n",
       "329998         1000.0       0  \n",
       "329999          981.0       0  \n",
       "\n",
       "[283945 rows x 11 columns]"
      ]
     },
     "execution_count": 5,
     "metadata": {},
     "output_type": "execute_result"
    }
   ],
   "source": [
    "selected_columns = [\n",
    "    \"CUST_ID\",  # 고객식별자\n",
    "    \"HOUS_LN_BAL\", # 주택담보대출잔액\n",
    "    \"CRDT_LN_BAL\",  # 신용대출잔액\n",
    "    \"PYE_D10110001\", # 연체건수 1, 3, 6개월내 발생(해제포함)\n",
    "    \"PYE_D10110003\",\n",
    "    \"PYE_D10110006\",\n",
    "    \"PYE_D1011000C\", # 연체건수 1년내 발생(해제포함)\n",
    "    \"PYE_D10210D00\", # 연체건수(미해제, 대지급포함)\n",
    "    \"PYE_D10232000\", # 총연체금액(미해제)\n",
    "    \"PYE_SC0000000\", # KCB Score_전년말기준\n",
    "    \"exited\" # 이탈여부\n",
    "]\n",
    "\n",
    "df_churn_loan = df[selected_columns]\n",
    "df_churn_loan"
   ]
  },
  {
   "cell_type": "markdown",
   "id": "d4f73685",
   "metadata": {},
   "source": [
    "<참고>\n",
    "- 해제포함은 → 연체가 발생했다가 이후에 상환(해제)된 건도 포함됨.\n",
    "- 미해제포함은 → 아직 상환되지 않고 남아있는 건수.\n",
    "- 대지급포함은 → 금융기관(또는 보증기관)이 대신 상환한 경우도 포함. (즉, 고객이 여전히 해당 금액을 상환해야하는 경우 포함.)"
   ]
  },
  {
   "cell_type": "markdown",
   "id": "cc5d84f4",
   "metadata": {},
   "source": [
    "### 데이터 기본정보 확인"
   ]
  },
  {
   "cell_type": "code",
   "execution_count": 6,
   "id": "cb475bc1",
   "metadata": {},
   "outputs": [
    {
     "name": "stdout",
     "output_type": "stream",
     "text": [
      "(283945, 11)\n"
     ]
    }
   ],
   "source": [
    "print(df_churn_loan.shape)"
   ]
  },
  {
   "cell_type": "code",
   "execution_count": 7,
   "id": "3f1d3e9f",
   "metadata": {},
   "outputs": [
    {
     "name": "stdout",
     "output_type": "stream",
     "text": [
      "<class 'pandas.core.frame.DataFrame'>\n",
      "Int64Index: 283945 entries, 0 to 329999\n",
      "Data columns (total 11 columns):\n",
      " #   Column         Non-Null Count   Dtype  \n",
      "---  ------         --------------   -----  \n",
      " 0   CUST_ID        283945 non-null  object \n",
      " 1   HOUS_LN_BAL    283945 non-null  int64  \n",
      " 2   CRDT_LN_BAL    283945 non-null  int64  \n",
      " 3   PYE_D10110001  283945 non-null  float64\n",
      " 4   PYE_D10110003  283945 non-null  float64\n",
      " 5   PYE_D10110006  283945 non-null  float64\n",
      " 6   PYE_D1011000C  283945 non-null  float64\n",
      " 7   PYE_D10210D00  283945 non-null  float64\n",
      " 8   PYE_D10232000  283945 non-null  float64\n",
      " 9   PYE_SC0000000  283945 non-null  float64\n",
      " 10  exited         283945 non-null  int32  \n",
      "dtypes: float64(7), int32(1), int64(2), object(1)\n",
      "memory usage: 33.0+ MB\n",
      "None\n"
     ]
    }
   ],
   "source": [
    "print(df_churn_loan.info())"
   ]
  },
  {
   "cell_type": "markdown",
   "id": "f21627c9",
   "metadata": {},
   "source": [
    "결측치(NaN) 확인해보기"
   ]
  },
  {
   "cell_type": "code",
   "execution_count": 8,
   "id": "1af9c5cd",
   "metadata": {},
   "outputs": [
    {
     "data": {
      "text/plain": [
       "CUST_ID          0\n",
       "HOUS_LN_BAL      0\n",
       "CRDT_LN_BAL      0\n",
       "PYE_D10110001    0\n",
       "PYE_D10110003    0\n",
       "PYE_D10110006    0\n",
       "PYE_D1011000C    0\n",
       "PYE_D10210D00    0\n",
       "PYE_D10232000    0\n",
       "PYE_SC0000000    0\n",
       "exited           0\n",
       "dtype: int64"
      ]
     },
     "execution_count": 8,
     "metadata": {},
     "output_type": "execute_result"
    }
   ],
   "source": [
    "df_churn_loan.isna().sum()"
   ]
  },
  {
   "cell_type": "markdown",
   "id": "aacb5a4c",
   "metadata": {},
   "source": [
    "대출 관련 변수의 분포 확인해보기"
   ]
  },
  {
   "cell_type": "code",
   "execution_count": 14,
   "id": "df4f1b8e",
   "metadata": {
    "scrolled": true
   },
   "outputs": [
    {
     "data": {
      "image/png": "[encoded data removed]",
      "text/plain": [
       "<Figure size 1200x500 with 2 Axes>"
      ]
     },
     "metadata": {},
     "output_type": "display_data"
    }
   ],
   "source": [
    "fig, axes = plt.subplots(1, 2, figsize=(12, 5))\n",
    "\n",
    "# 주택담보대출 잔액 분포\n",
    "sns.histplot(df_churn_loan[\"HOUS_LN_BAL\"], kde=True, bins=30, ax=axes[0])\n",
    "axes[0].set_title(\"주택담보대출 잔액 분포\")\n",
    "\n",
    "# 신용대출 잔액 분포\n",
    "sns.histplot(df_churn_loan[\"CRDT_LN_BAL\"], kde=True, bins=30, ax=axes[1])\n",
    "axes[1].set_title(\"신용대출 잔액 분포\")\n",
    "\n",
    "plt.tight_layout() \n",
    "plt.show()"
   ]
  },
  {
   "cell_type": "markdown",
   "id": "93bbaae1",
   "metadata": {},
   "source": [
    "위 그래프 결과를 보면\n",
    "1. 주택담보대출 잔액 분포 그래프\n",
    "- 대부분 데이터가 0 근처에 집중되어 있다. = 즉, 주택담보대출이 없는 사람이 많음.\n",
    "- 오른쪽 꼬리다 길다는 것은 일부 고객이 매우 높은 대출을 보유하고 있다고 추정 가능.\n",
    "\n",
    "추가적으로 로그변환을 적용해서 더 정규분포에 가깝게 만들어보자!\n",
    "\n",
    "2. 신용대출 잔액 분포 그래프\n",
    "- 마찬가지로 데이터가 대부분 0 근처에 집중됨. = 즉, 신용대출이 없는 사람이 많음.\n",
    "- 오른쪽 꼬리가 길기때문에 일부 고객이 매우 높은 신용대출을 보유중이라고 추정 가능.\n",
    "\n",
    "추가적으로 이탈 고객이 높은 대출을 가지고 있는지 비교해보자!"
   ]
  },
  {
   "cell_type": "code",
   "execution_count": 15,
   "id": "53c4685e",
   "metadata": {
    "scrolled": false
   },
   "outputs": [
    {
     "data": {
      "image/png": "[encoded data removed]",
      "text/plain": [
       "<Figure size 1200x500 with 2 Axes>"
      ]
     },
     "metadata": {},
     "output_type": "display_data"
    }
   ],
   "source": [
    "# 추가분석 - 로그변환 후 분포 재확인\n",
    "df_churn_loan = df_churn_loan.copy()\n",
    "\n",
    "df_churn_loan[\"log_HOUS_LN_BAL\"] = np.log1p(df_churn_loan[\"HOUS_LN_BAL\"])\n",
    "df_churn_loan[\"log_CRDT_LN_BAL\"] = np.log1p(df_churn_loan[\"CRDT_LN_BAL\"])\n",
    "\n",
    "fig, axes = plt.subplots(1, 2, figsize=(12, 5))\n",
    "\n",
    "sns.histplot(df_churn_loan[\"log_HOUS_LN_BAL\"], kde=True, bins=30, ax=axes[0])\n",
    "axes[0].set_title(\"로그 변환된 주택담보대출 잔액 분포\")\n",
    "\n",
    "sns.histplot(df_churn_loan[\"log_CRDT_LN_BAL\"], kde=True, bins=30, ax=axes[1])\n",
    "axes[1].set_title(\"로그 변환된 신용대출 잔액 분포\")\n",
    "\n",
    "plt.tight_layout()\n",
    "plt.show()"
   ]
  },
  {
   "cell_type": "markdown",
   "id": "8d32d643",
   "metadata": {},
   "source": [
    "로그 변환하고 다시 분포를 봤을때 전보다는 두 개의 군집으로 나뉘는 경향이 보이긴하지만 여전히 두 그래프 다 0에 집중된 그래프에 가깝다.<br> 때문에 이번엔 대출이 없는 고객과 대출이 있는 고객을 나눠서 분석해보고 대출이 있는 고객만 이탈 고객과 비교분석해보자."
   ]
  },
  {
   "cell_type": "code",
   "execution_count": 16,
   "id": "01db3570",
   "metadata": {},
   "outputs": [
    {
     "name": "stdout",
     "output_type": "stream",
     "text": [
      "(주택담보)대출 없는 고객 수: 236905\n",
      "(주택담보)대출 있는 고객 수: 47040\n",
      "(신용)대출 없는 고객 수: 179809\n",
      "(신용)대출 있는 고객 수: 104136\n"
     ]
    }
   ],
   "source": [
    "# 주택담보대출이 없는 고객 vs 있는 고객 나누기\n",
    "df_no_loan = df_churn_loan[df_churn_loan[\"HOUS_LN_BAL\"] == 0]  # 대출 없는 고객\n",
    "df_with_loan = df_churn_loan[df_churn_loan[\"HOUS_LN_BAL\"] > 0]  # 대출 있는 고객\n",
    "\n",
    "print(\"(주택담보)대출 없는 고객 수:\", len(df_no_loan))\n",
    "print(\"(주택담보)대출 있는 고객 수:\", len(df_with_loan))\n",
    "\n",
    "# 신용대출이 없는 고객 vs 있는 고객 나누기\n",
    "df_no_cdloan = df_churn_loan[df_churn_loan[\"CRDT_LN_BAL\"] == 0]  # 대출 없는 고객\n",
    "df_with_cdloan = df_churn_loan[df_churn_loan[\"CRDT_LN_BAL\"] > 0]  # 대출 있는 고객\n",
    "\n",
    "print(\"(신용)대출 없는 고객 수:\", len(df_no_cdloan))\n",
    "print(\"(신용)대출 있는 고객 수:\", len(df_with_cdloan))"
   ]
  },
  {
   "cell_type": "markdown",
   "id": "bb430626",
   "metadata": {},
   "source": [
    "###  주택담보대출 - 대출이 있는 고객만 분석"
   ]
  },
  {
   "cell_type": "code",
   "execution_count": 17,
   "id": "38d77226",
   "metadata": {},
   "outputs": [
    {
     "data": {
      "image/png": "[encoded data removed]",
      "text/plain": [
       "<Figure size 1200x500 with 2 Axes>"
      ]
     },
     "metadata": {},
     "output_type": "display_data"
    }
   ],
   "source": [
    "fig, axes = plt.subplots(1, 2, figsize=(12, 5))\n",
    "\n",
    "# 대출 없는 고객 포함한 전체 대출 잔액 분포\n",
    "sns.histplot(df_churn_loan[\"HOUS_LN_BAL\"], kde=True, bins=30, ax=axes[0])\n",
    "axes[0].set_title(\"전체 고객의 주택담보대출 잔액 분포 (로그 변환 전)\")\n",
    "\n",
    "# 대출이 있는 고객만 필터링한 대출 잔액 분포\n",
    "sns.histplot(df_with_loan[\"log_HOUS_LN_BAL\"], kde=True, bins=30, ax=axes[1])\n",
    "axes[1].set_title(\"대출이 있는 고객만 필터링한 주택담보대출 잔액 분포 (로그 변환)\")\n",
    "\n",
    "plt.tight_layout()\n",
    "plt.show()"
   ]
  },
  {
   "cell_type": "markdown",
   "id": "15c626a0",
   "metadata": {},
   "source": [
    "대출 있는 고객만 필터링한 주담대 잔액 분포를 살펴보자.\n",
    "- 정규분포에 가까운 형태임. = 대출 금액이 일정한 범위에서 집중되어 있음.\n",
    "- 대부분 고객이 로그 변환된 값 10 ~ 12 사이에 집중되어 있음.\n",
    "    - 실제 금액으로 환산하면 약 2,200만원 ~ 1억 6,200만원 정도.\n",
    "- 즉, 대출을 하는 고객들은 특정 금액 범위에서 대출을 받는 경향이 있다."
   ]
  },
  {
   "cell_type": "markdown",
   "id": "99e5c075",
   "metadata": {},
   "source": [
    "<참고 - 대출 금액 단위 예측 방법>\n",
    "- 최대값(255,276)과 평균값(15,180)을 확인한 결과,<br>\n",
    "값이 수십만 단위로 나타나므로 천원(₩1,000) 단위로 기록된 것으로 추정.\n",
    "- 따라서, 평균 대출 금액 15,180 → 약 1,518만 원,<br>\n",
    "주요 분포 범위 22,000 ~ 162,000 → 약 2,200만 원 ~ 1억 6,200만 원으로 해석.\n"
   ]
  },
  {
   "cell_type": "markdown",
   "id": "d6723887",
   "metadata": {},
   "source": [
    "### 대출이 없는 고객 vs 있는 고객의 이탈률 비교"
   ]
  },
  {
   "cell_type": "code",
   "execution_count": 18,
   "id": "c4bcddcb",
   "metadata": {},
   "outputs": [
    {
     "data": {
      "text/plain": [
       "HOUS_LN_BAL\n",
       "False    0.051979\n",
       "True     0.055145\n",
       "Name: exited, dtype: float64"
      ]
     },
     "execution_count": 18,
     "metadata": {},
     "output_type": "execute_result"
    }
   ],
   "source": [
    "df_churn_loan.groupby(df_churn_loan[\"HOUS_LN_BAL\"] > 0)[\"exited\"].mean()"
   ]
  },
  {
   "cell_type": "markdown",
   "id": "f86f303e",
   "metadata": {},
   "source": [
    "- 이탈률 비교(exited 평균)\n",
    "- 대출 없음 (False)\t-> 5.20%\n",
    "- 대출 있음 (True)\t-> 5.51%<br>\n",
    "<br>\n",
    "- 대출 있는 고객 이탈률이 없는 고객보다 약간 높다.<br>\n",
    "<br>\n",
    "- 단순히 대출 유무보다는 \"대출 금액이 많을수록 이탈 가능성이 높아지는가?\"를 확인해보는게 좋을거같다. 대출 금액 구간별로 이탈률을 비교해보자!"
   ]
  },
  {
   "cell_type": "code",
   "execution_count": 19,
   "id": "22bfd9a5",
   "metadata": {},
   "outputs": [
    {
     "data": {
      "text/plain": [
       "대출금액구간\n",
       "5천만 이하    0.065959\n",
       "5천만~1억    0.054801\n",
       "1억~2억     0.054342\n",
       "2억 이상     0.049645\n",
       "Name: exited, dtype: float64"
      ]
     },
     "execution_count": 19,
     "metadata": {},
     "output_type": "execute_result"
    }
   ],
   "source": [
    "df_churn_loan[\"대출금액구간\"] = pd.cut(df_churn_loan[\"HOUS_LN_BAL\"], \n",
    "                                    bins=[0, 50000, 100000, 200000, 300000], \n",
    "                                    labels=[\"5천만 이하\", \"5천만~1억\", \"1억~2억\", \"2억 이상\"])\n",
    "\n",
    "df_churn_loan.groupby(\"대출금액구간\")[\"exited\"].mean()\n"
   ]
  },
  {
   "cell_type": "markdown",
   "id": "4ff02515",
   "metadata": {},
   "source": [
    "결과를 보면 \"대출 금액이 많을수록 이탈률이 낮아지는 경향\"이 있음!\n",
    "- 5천만 원 이하 대출 고객의 이탈률이 가장 높음 (6.60%).\n",
    "- 반면, 2억 원 이상 대출 고객의 이탈률이 가장 낮음 (4.96%).\n",
    "- 대출 금액이 커질수록 이탈률이 점차 감소하는 경향을 보임. --> 왜 일까??<br>\n",
    "<br>\n",
    "- 대출 금액이 큰 고객은 이미 해당 금융기관과 깊은 관계를 형성했을 가능성이 클 것 같다.\n",
    "- 대출이 많을수록 타 금융기관으로 이동하기도 어려울 것 같다.(재심사 및 신용 점검 필요 등.)"
   ]
  },
  {
   "cell_type": "markdown",
   "id": "a0475c52",
   "metadata": {},
   "source": [
    "### 5천만 원 이하 대출 고객의 이탈 원인 분석해보기"
   ]
  },
  {
   "cell_type": "code",
   "execution_count": 20,
   "id": "429ed76e",
   "metadata": {},
   "outputs": [
    {
     "data": {
      "text/plain": [
       "PYE_D10210D00\n",
       "0.0    0.065551\n",
       "1.0    0.117647\n",
       "Name: exited, dtype: float64"
      ]
     },
     "execution_count": 20,
     "metadata": {},
     "output_type": "execute_result"
    }
   ],
   "source": [
    "# 연체 여부에 따른 이탈률 비교\n",
    "df_low_loan = df_churn_loan[df_churn_loan[\"대출금액구간\"] == \"5천만 이하\"]\n",
    "df_low_loan.groupby(\"PYE_D10210D00\")[\"exited\"].mean() \n",
    "\n",
    "# 연체가 있는 고객(1)은 11.76%, 연체가 없는 고객(0)은 6.56%으로 연체가 있는 고객이 이탈률이 두 배 가까이 높다.\n",
    "# 연체 경험 있는 고객이 더 높은 확률로 이탈하는 경향이 있다는거니까 연체 고객 대상 맞춤형 관리 전략이 필요해 보임."
   ]
  },
  {
   "cell_type": "code",
   "execution_count": 21,
   "id": "bad7efa7",
   "metadata": {},
   "outputs": [
    {
     "data": {
      "text/plain": [
       "PYE_SC0000000\n",
       "(-0.001, 844.0]    0.051376\n",
       "(844.0, 928.5]     0.076067\n",
       "(928.5, 975.0]     0.075506\n",
       "(975.0, 1000.0]    0.060998\n",
       "Name: exited, dtype: float64"
      ]
     },
     "execution_count": 21,
     "metadata": {},
     "output_type": "execute_result"
    }
   ],
   "source": [
    "# 신용점수 구간에 따른 이탈률 비교\n",
    "df_low_loan.groupby(pd.qcut(df_low_loan[\"PYE_SC0000000\"], q=4))[\"exited\"].mean()\n",
    "\n",
    "# 결과를 보면 중간 구간(844~975점)의 고객이 7.55%~7.61% 으로 가장 높은 이탈률을 보임.\n",
    "# 반면에 신용 점수가 낮은 그룹(844 이하)과 높은 그룹(975 이상)의 이탈률은 비교적 낮음.\n",
    "# 즉, 신용 점수가 애매한 중간 그룹의 고객들이 더 높은 확률로 이탈하는 경향이 있다."
   ]
  },
  {
   "cell_type": "markdown",
   "id": "4446e9d3",
   "metadata": {},
   "source": [
    "### 신용대출 - 없는 고객 vs 있는 고객으로 나눠 비교"
   ]
  },
  {
   "cell_type": "code",
   "execution_count": 22,
   "id": "d54d258c",
   "metadata": {},
   "outputs": [
    {
     "data": {
      "text/plain": [
       "CRDT_LN_BAL\n",
       "False    0.076217\n",
       "True     0.046605\n",
       "Name: exited, dtype: float64"
      ]
     },
     "execution_count": 22,
     "metadata": {},
     "output_type": "execute_result"
    }
   ],
   "source": [
    "# 신용대출 보유 여부에 따른 이탈률(exited 평균)\n",
    "df_low_loan.groupby(df_low_loan[\"CRDT_LN_BAL\"] > 0)[\"exited\"].mean()\n",
    "\n",
    "# 주담대 대출이였을 경우랑 비슷한 패턴인데~\n",
    "# 신용대출이 없는 고객의 이탈률(7.62%)이 신용대출이 있는 고객(4.66%)보다 높음.\n",
    "# 신용대출이 없는 고객이 더 쉽게 이탈하는데 아마 아까 주담대에서 주담대 보유 고객의 이탈률이\n",
    "# 더 낮았던 이유와 비슷할 것으로 생각됨. 또 반대로 생각하면 신용대출은 고객을 묶어두는 효과가 있다고 생각 가능."
   ]
  },
  {
   "cell_type": "markdown",
   "id": "cd3eeeae",
   "metadata": {},
   "source": [
    "### 연체 고객(1.0) vs 비연체 고객(0.0)의 특징 비교"
   ]
  },
  {
   "cell_type": "code",
   "execution_count": 23,
   "id": "d80291d5",
   "metadata": {},
   "outputs": [
    {
     "data": {
      "text/html": [
       "<div>\n",
       "<style scoped>\n",
       "    .dataframe tbody tr th:only-of-type {\n",
       "        vertical-align: middle;\n",
       "    }\n",
       "\n",
       "    .dataframe tbody tr th {\n",
       "        vertical-align: top;\n",
       "    }\n",
       "\n",
       "    .dataframe thead th {\n",
       "        text-align: right;\n",
       "    }\n",
       "</style>\n",
       "<table border=\"1\" class=\"dataframe\">\n",
       "  <thead>\n",
       "    <tr style=\"text-align: right;\">\n",
       "      <th></th>\n",
       "      <th>HOUS_LN_BAL</th>\n",
       "      <th>CRDT_LN_BAL</th>\n",
       "      <th>PYE_SC0000000</th>\n",
       "    </tr>\n",
       "    <tr>\n",
       "      <th>PYE_D10210D00</th>\n",
       "      <th></th>\n",
       "      <th></th>\n",
       "      <th></th>\n",
       "    </tr>\n",
       "  </thead>\n",
       "  <tbody>\n",
       "    <tr>\n",
       "      <th>0.0</th>\n",
       "      <td>44232.781962</td>\n",
       "      <td>3281.973501</td>\n",
       "      <td>888.466760</td>\n",
       "    </tr>\n",
       "    <tr>\n",
       "      <th>1.0</th>\n",
       "      <td>45533.352941</td>\n",
       "      <td>13262.882353</td>\n",
       "      <td>392.058824</td>\n",
       "    </tr>\n",
       "  </tbody>\n",
       "</table>\n",
       "</div>"
      ],
      "text/plain": [
       "                HOUS_LN_BAL   CRDT_LN_BAL  PYE_SC0000000\n",
       "PYE_D10210D00                                           \n",
       "0.0            44232.781962   3281.973501     888.466760\n",
       "1.0            45533.352941  13262.882353     392.058824"
      ]
     },
     "execution_count": 23,
     "metadata": {},
     "output_type": "execute_result"
    }
   ],
   "source": [
    "df_low_loan.groupby(\"PYE_D10210D00\")[[\"HOUS_LN_BAL\", \"CRDT_LN_BAL\", \"PYE_SC0000000\"]].mean()\n",
    "# 연체여부에 따른 평균 주담대, 신용대출 금액 그리고 신용 점수까지 비교."
   ]
  },
  {
   "cell_type": "markdown",
   "id": "9b62ac10",
   "metadata": {},
   "source": [
    "1. 신용대출에서 연체여부\n",
    "- 연체 없는 고객: 평균 3,281 원\n",
    "- 연체 있는 고객: 평균 13,262 원 (약 4배 증가!)\n",
    "- 즉, 신용대출을 많이 받을수록 연체 가능성이 높아짐.\n",
    "- 연체 고객들은 신용대출 의존도가 높고, 대출 부담이 클 가능성이 큼.\n",
    "\n",
    "2. 신용점수에서 연체여부\n",
    "- 연체 없는 고객: 평균 888 점\n",
    "- 연체 있는 고객: 평균 392 점 (거의 반 토막!)\n",
    "- 즉, 신용 점수가 낮을수록 연체 가능성이 높아짐.\n",
    "- 금융기관에서 신용 점수가 낮은 고객을 연체 위험군으로 분류하는 것이 합리적임.\n",
    "\n",
    "3. 주택담보대출에서 연체여부\n",
    "- 연체 없는 고객: 44,232 원\n",
    "- 연체 있는 고객: 45,533 원\n",
    "- 즉, 주택담보대출 자체는 연체 가능성에 큰 영향을 주지 않는 듯함.\n",
    "- 연체 여부를 결정짓는 주요 요인은 '신용대출 금액'과 '신용 점수'일 가능성이 큼."
   ]
  },
  {
   "cell_type": "markdown",
   "id": "ea58c002",
   "metadata": {},
   "source": [
    "연체 관련 변수의 분포 확인해보기"
   ]
  },
  {
   "cell_type": "code",
   "execution_count": 24,
   "id": "0dcca5b7",
   "metadata": {},
   "outputs": [
    {
     "data": {
      "image/png": "[encoded data removed]",
      "text/plain": [
       "<Figure size 1500x500 with 3 Axes>"
      ]
     },
     "metadata": {},
     "output_type": "display_data"
    }
   ],
   "source": [
    "import matplotlib.pyplot as plt\n",
    "import seaborn as sns\n",
    "\n",
    "fig, axes = plt.subplots(1, 3, figsize=(15, 5))\n",
    "\n",
    "# 1개월 내 발생 연체건수\n",
    "sns.histplot(df_churn_loan[\"PYE_D10110001\"], kde=True, bins=30, ax=axes[0])\n",
    "axes[0].set_title(\"연체건수 (1개월 내 발생) 분포\")\n",
    "\n",
    "# 3개월 내 발생 연체건수\n",
    "sns.histplot(df_churn_loan[\"PYE_D10110003\"], kde=True, bins=30, ax=axes[1])\n",
    "axes[1].set_title(\"연체건수 (3개월 내 발생) 분포\")\n",
    "\n",
    "# 6개월 내 발생 연체건수\n",
    "sns.histplot(df_churn_loan[\"PYE_D10110006\"], kde=True, bins=30, ax=axes[2])\n",
    "axes[2].set_title(\"연체건수 (6개월 내 발생) 분포\")\n",
    "\n",
    "plt.tight_layout()  # 그래프 간 간격 자동 조절\n",
    "plt.show()"
   ]
  },
  {
   "cell_type": "markdown",
   "id": "a7022d18",
   "metadata": {},
   "source": [
    "### 연체 금액과 이탈률의 관계"
   ]
  },
  {
   "cell_type": "code",
   "execution_count": 40,
   "id": "a0e0892e",
   "metadata": {},
   "outputs": [
    {
     "name": "stdout",
     "output_type": "stream",
     "text": [
      "최소 연체 금액: 0.0\n",
      "최대 연체 금액: 55431.0\n"
     ]
    }
   ],
   "source": [
    "print(\"최소 연체 금액:\", df_churn_loan[\"PYE_D10232000\"].min())\n",
    "print(\"최대 연체 금액:\", df_churn_loan[\"PYE_D10232000\"].max())"
   ]
  },
  {
   "cell_type": "code",
   "execution_count": 42,
   "id": "9e03642e",
   "metadata": {},
   "outputs": [
    {
     "data": {
      "text/plain": [
       "연체금액구간\n",
       "500만 원 이하     0.046025\n",
       "500만~2천만 원    0.049157\n",
       "2천만~5천만 원     0.040000\n",
       "5천만 원 이상      0.333333\n",
       "Name: exited, dtype: float64"
      ]
     },
     "execution_count": 42,
     "metadata": {},
     "output_type": "execute_result"
    }
   ],
   "source": [
    "bins = [0, 500, 20000, 50000, 60000]  # 단위: 원 (5백만, 2천만, 5천만)\n",
    "labels = [\"500만 원 이하\", \"500만~2천만 원\", \"2천만~5천만 원\", \"5천만 원 이상\"]\n",
    "\n",
    "df_churn_loan[\"연체금액구간\"] = pd.cut(df_churn_loan[\"PYE_D10232000\"], bins=bins, labels=labels)\n",
    "\n",
    "# 구간별 이탈률 확인\n",
    "df_churn_loan.groupby(\"연체금액구간\")[\"exited\"].mean()"
   ]
  },
  {
   "cell_type": "markdown",
   "id": "23abc1a0",
   "metadata": {},
   "source": [
    "연체 금액이 5천만 원 이상인 고객의 이탈률 33.3%으로 다른구간에 비해 압도적으로 높음.<br>\n",
    "2천만~ 5천만 원 구간에서 가장 낮은 이탈률 4.0%를 보인다. \n",
    "연체 금액이 증가할수록 이탈률이 상승하지만 2천만 ~ 5천만 원 구간만 예외적으로 감소함."
   ]
  },
  {
   "cell_type": "markdown",
   "id": "270bd5ac",
   "metadata": {},
   "source": [
    "### 연체 횟수와 이탈률의 관계"
   ]
  },
  {
   "cell_type": "code",
   "execution_count": 51,
   "id": "b5d0b38a",
   "metadata": {},
   "outputs": [
    {
     "name": "stdout",
     "output_type": "stream",
     "text": [
      "최소 연체 횟수: 0.0\n",
      "최대 연체 횟수: 4.0\n"
     ]
    }
   ],
   "source": [
    "print(\"최소 연체 횟수:\", df_churn_loan[\"PYE_D1011000C\"].min())\n",
    "print(\"최대 연체 횟수:\", df_churn_loan[\"PYE_D1011000C\"].max())\n",
    "# PYE_D1011000C : 연체건수(1년내발생)(해제포함)_전년말기준"
   ]
  },
  {
   "cell_type": "code",
   "execution_count": 52,
   "id": "6d74a330",
   "metadata": {},
   "outputs": [
    {
     "data": {
      "text/plain": [
       "연체횟수구간\n",
       "0회      0.052599\n",
       "1~2회    0.048145\n",
       "3~4회    0.072125\n",
       "Name: exited, dtype: float64"
      ]
     },
     "execution_count": 52,
     "metadata": {},
     "output_type": "execute_result"
    }
   ],
   "source": [
    "# 연체 횟수 구간 설정 (0회 / 1~2회 / 3~4회)\n",
    "bins = [0, 1, 3, 4]  \n",
    "labels = [\"0회\", \"1~2회\", \"3~4회\"]\n",
    "\n",
    "# 연체 횟수 구간 생성\n",
    "df_churn_loan[\"연체횟수구간\"] = pd.cut(df_churn_loan[\"PYE_D1011000C\"], bins=bins, labels=labels, include_lowest=True)\n",
    "\n",
    "# 구간별 이탈률 계산\n",
    "df_churn_loan.groupby(\"연체횟수구간\")[\"exited\"].mean()"
   ]
  },
  {
   "cell_type": "markdown",
   "id": "2ee588ac",
   "metadata": {},
   "source": [
    "연체가 3 ~ 4회인 고객의 이탈률이 가장 높음 7.21%\n",
    "1 ~ 2회 연체 고객의 이탈률 4.91% 이 0회 고객 5.26%보다 오히려 낮음"
   ]
  },
  {
   "cell_type": "markdown",
   "id": "16669ef2",
   "metadata": {},
   "source": [
    "### 연체가 있는 고객의 신용 점수 구간별 이탈률"
   ]
  },
  {
   "cell_type": "code",
   "execution_count": 55,
   "id": "af495fea",
   "metadata": {},
   "outputs": [
    {
     "name": "stdout",
     "output_type": "stream",
     "text": [
      "최소 신용 점수: 0.0\n",
      "최대 신용 점수: 557.0\n"
     ]
    }
   ],
   "source": [
    "# 연체가 있는 고객만 필터링\n",
    "df_delinq = df_churn_loan[df_churn_loan[\"PYE_D10210D00\"] == 1]\n",
    "\n",
    "# 신용 점수 최소/최대 확인\n",
    "print(\"최소 신용 점수:\", df_delinq[\"PYE_SC0000000\"].min())\n",
    "print(\"최대 신용 점수:\", df_delinq[\"PYE_SC0000000\"].max())"
   ]
  },
  {
   "cell_type": "code",
   "execution_count": 60,
   "id": "68020cf6",
   "metadata": {},
   "outputs": [
    {
     "data": {
      "text/plain": [
       "신용점수구간\n",
       "0~100           NaN\n",
       "100~200         NaN\n",
       "200~300         NaN\n",
       "300~400    0.071130\n",
       "400~500    0.035806\n",
       "500~600    0.000000\n",
       "Name: exited, dtype: float64"
      ]
     },
     "execution_count": 60,
     "metadata": {},
     "output_type": "execute_result"
    }
   ],
   "source": [
    "# 신용 점수 구간 설정\n",
    "bins = [0, 100, 200, 300, 400, 500, 600]  \n",
    "labels = [\"0~100\", \"100~200\", \"200~300\", \"300~400\", \"400~500\", \"500~600\"]\n",
    "\n",
    "# 신용 점수 구간화\n",
    "df_delinq = df_delinq.copy()\n",
    "df_delinq.loc[:, \"신용점수구간\"] = pd.cut(df_delinq[\"PYE_SC0000000\"], bins=bins, labels=labels)\n",
    "\n",
    "# 신용 점수 구간별 이탈률 계산\n",
    "credit_exit_rate = df_delinq.groupby(\"신용점수구간\")[\"exited\"].mean()\n",
    "credit_exit_rate"
   ]
  },
  {
   "cell_type": "markdown",
   "id": "b24fcbb5",
   "metadata": {},
   "source": [
    "신용 점수가 0 ~300에 속하는 고객이 없어서 NaN값이 뜬다.<br>\n",
    "신용 점수가 300 ~400인 구간에서 이탈률이 0.071130 가장 높음.<br>\n",
    "500 ~600 구간에서는 이탈률이 0..!이다."
   ]
  },
  {
   "cell_type": "code",
   "execution_count": 61,
   "id": "c2c32a7e",
   "metadata": {},
   "outputs": [
    {
     "data": {
      "text/plain": [
       "count    1409.000000\n",
       "mean      376.677076\n",
       "std        82.544711\n",
       "min         0.000000\n",
       "25%       378.000000\n",
       "50%       390.000000\n",
       "75%       402.000000\n",
       "max       557.000000\n",
       "Name: PYE_SC0000000, dtype: float64"
      ]
     },
     "execution_count": 61,
     "metadata": {},
     "output_type": "execute_result"
    }
   ],
   "source": [
    "# 위에서 NaN값이 뜨니까 신용점수 분포를 봐보고 그걸 고려해서 구간을 조정해보겠음.\n",
    "df_delinq[\"PYE_SC0000000\"].describe()"
   ]
  },
  {
   "cell_type": "code",
   "execution_count": 62,
   "id": "6f6a1d75",
   "metadata": {},
   "outputs": [
    {
     "data": {
      "text/plain": [
       "신용점수구간\n",
       "300 이하          NaN\n",
       "300~375    0.044248\n",
       "375~390    0.094808\n",
       "390~400    0.055749\n",
       "400~425    0.042623\n",
       "425~450    0.015625\n",
       "450~500    0.000000\n",
       "500 이상     0.000000\n",
       "Name: exited, dtype: float64"
      ]
     },
     "execution_count": 62,
     "metadata": {},
     "output_type": "execute_result"
    }
   ],
   "source": [
    "bins = [0, 300, 375, 390, 400, 425, 450, 500, 600]  # 300이하, 375, 390, 400, 425, 450, 500, 600 이상\n",
    "labels = [\"300 이하\", \"300~375\", \"375~390\", \"390~400\", \"400~425\", \"425~450\", \"450~500\", \"500 이상\"]\n",
    "\n",
    "df_delinq = df_delinq.copy()  # 경고 방지\n",
    "df_delinq[\"신용점수구간\"] = pd.cut(df_delinq[\"PYE_SC0000000\"], bins=bins, labels=labels)\n",
    "\n",
    "# 구간별 이탈률 계산\n",
    "credit_exit_rate = df_delinq.groupby(\"신용점수구간\")[\"exited\"].mean()\n",
    "credit_exit_rate"
   ]
  },
  {
   "cell_type": "markdown",
   "id": "9eb97b0e",
   "metadata": {},
   "source": [
    "구간을 더 세분화해서 보니까\n",
    "이탈률이 약 0.09408로 가장 높은 구간은 375 ~390점이다.\n",
    "이전에도 본것처럼 500점 이상에서는 이탈률이 0으로 나온다.\n",
    "분포를 파악하고 구간을 더 세분화해서 봤는데도 300점 이하에서는 NaN이 나왔다.<br>\n",
    "<br>\n",
    "결론적으로 신용 점수가 중간이 고객들이 이탈할 가능성이 상대적으로 높고,<br>\n",
    "신용 점수가 높은 고객들은 이탈하지 않는 경향을 보였다.<br> \n",
    "그리고 신용점수가 300점 이하인 거의 없음을 알 수 있다.(이 데이터 한정)<br>"
   ]
  }
 ],
 "metadata": {
  "kernelspec": {
   "display_name": "Python 3 (ipykernel)",
   "language": "python",
   "name": "python3"
  },
  "language_info": {
   "codemirror_mode": {
    "name": "ipython",
    "version": 3
   },
   "file_extension": ".py",
   "mimetype": "text/x-python",
   "name": "python",
   "nbconvert_exporter": "python",
   "pygments_lexer": "ipython3",
   "version": "3.9.13"
  }
 },
 "nbformat": 4,
 "nbformat_minor": 5
}
